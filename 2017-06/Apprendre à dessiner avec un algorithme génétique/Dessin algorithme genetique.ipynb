{
 "cells": [
  {
   "cell_type": "markdown",
   "metadata": {},
   "source": [
    "# Apprendre à reproduire une image avec un algorithme génétique\n",
    "\n",
    "On commence par importer les dépendances du projet."
   ]
  },
  {
   "cell_type": "code",
   "execution_count": 1,
   "metadata": {},
   "outputs": [],
   "source": [
    "import sys\n",
    "from platypus import Problem, Real, NSGAII\n",
    "import matplotlib.pyplot as plt\n",
    "\n",
    "from skimage.draw import polygon\n",
    "from PIL import Image, ImageDraw"
   ]
  },
  {
   "cell_type": "markdown",
   "metadata": {},
   "source": [
    "On charge l'image à reproduire.\n",
    "\n",
    "la variable **NB_POLYGONS** permet de choisir combien de polygon seront utilisés pour reproduire l'image."
   ]
  },
  {
   "cell_type": "code",
   "execution_count": 2,
   "metadata": {},
   "outputs": [
    {
     "data": {
      "text/plain": [
       "<matplotlib.image.AxesImage at 0x7fa3c524c6d8>"
      ]
     },
     "execution_count": 2,
     "metadata": {},
     "output_type": "execute_result"
    },
    {
     "data": {
      "image/png": "[encoded data removed]",
      "text/plain": [
       "<Figure size 432x288 with 1 Axes>"
      ]
     },
     "metadata": {
      "needs_background": "light"
     },
     "output_type": "display_data"
    }
   ],
   "source": [
    "img_original = plt.imread('figures_black.png')\n",
    "WIDTH, HEIGHT, *_ = img_original.shape\n",
    "NB_POLYGONS = 10\n",
    "\n",
    "plt.imshow(img_original)"
   ]
  },
  {
   "cell_type": "markdown",
   "metadata": {},
   "source": [
    "La fonction *makemake_image* permet de créer une image à partir de un ou plusieurs polygones.\n",
    "Cette fonction attends en entrée 7 arguments par polygone (7 float compris entre 0 et 1). \n",
    "* Le premier float correspond à l'intensité du polygone (0=transparent et 1=opaque). \n",
    "* Les 3 float suivants correspondent aux coordonnées x (ligne) des sommets, normalisées entre 0 et 1.\n",
    "* Les 3 float suivants correspondent aux coordonnées y (colonne) des sommets, normalisées entre 0 et 1.\n",
    "\n",
    "Note: j'ai choisi des triangles mais vous pouvez utiliser plus de sommets en adaptant un peu le code.\n",
    "\n",
    "La fonction *similarity* permet de calculer une similarité visuelle entre l'image originale et l'image générée.\n",
    "Cette fonction attends en entrée les paramètres de *makemake_image* sous forme d'une liste."
   ]
  },
  {
   "cell_type": "code",
   "execution_count": 3,
   "metadata": {},
   "outputs": [],
   "source": [
    "def make_image(*args):\n",
    "    img = np.ones(shape=(WIDTH, HEIGHT, 3), dtype=float)\n",
    "    dna = list(args)\n",
    "    nb_polygons = int(len(dna) / 7)\n",
    "\n",
    "    for _ in range(nb_polygons):\n",
    "        intensity, r1, r2, r3, c1, c2, c3, *dna = dna\n",
    "        r = [int(r1 * WIDTH), int(r2 * WIDTH), int(r3 * WIDTH)]\n",
    "        c = [int(c1 * HEIGHT), int(c2 * HEIGHT), int(c3 * HEIGHT)]\n",
    "        rr, cc = polygon(r, c)\n",
    "        img[rr, cc] -= intensity\n",
    "        img = np.clip(img, 0, 255)\n",
    "\n",
    "    return img\n",
    "\n",
    "def similarity(args_list):\n",
    "    img_generated = make_image(*args_list)\n",
    "\n",
    "    return [np.power(np.sum(np.power(np.absolute(img_original - img_generated), 2)), 1./2.), ]"
   ]
  },
  {
   "cell_type": "markdown",
   "metadata": {},
   "source": [
    "On créer le problème avec 7 paramètres et 1 critère à optimiser.\n",
    "\n",
    "**NB_GENERATION** et **POPULATION_SIZE** correspondent respectivement au nombre de générations et à la taille de la population.\n",
    "L'algorithme génétique utilisé est Nondominated Sorting Genetic Algorithm II (NSGA-II). Par défaut, on minimise le  critère."
   ]
  },
  {
   "cell_type": "code",
   "execution_count": 6,
   "metadata": {
    "scrolled": true
   },
   "outputs": [],
   "source": [
    "problem = Problem(NB_POLYGONS * 7, 1)\n",
    "problem.types[:] = Real(0, 1)\n",
    "problem.function = similarity\n",
    "\n",
    "NB_GENERATION = 1000\n",
    "POPULATION_SIZE = 10\n",
    "algorithm = NSGAII(problem, population_size=POPULATION_SIZE)\n",
    "algorithm.run(NB_GENERATION * POPULATION_SIZE)"
   ]
  },
  {
   "cell_type": "markdown",
   "metadata": {},
   "source": [
    "On peut récupérer les résultats de l'optimisation. Ce derniers sont ordonnés du meilleur au moins bon.\n",
    "On peut affiché le résultat sous forme d'image."
   ]
  },
  {
   "cell_type": "code",
   "execution_count": 7,
   "metadata": {},
   "outputs": [
    {
     "name": "stdout",
     "output_type": "stream",
     "text": [
      "38.00490431564939\n",
      "[0.45026486703437996, 0.8729015170714699, 0.8885025990397034, 0.6549396977096834, 0.10451759863482213, 0.32317808311294305, 0.432127356560519, 0.4320530862427089, 0.7960547698870204, 0.8190073761317282, 0.4882146733732349, 0.47337755125199743, 0.014576766867726047, 0.20331355269611515, 0.01771549093993211, 0.5167593419810704, 0.07811159835647917, 0.46161189798626606, 0.5444087822210733, 0.6612295991456714, 0.8888050997107766, 0.47280288647506113, 0.5467545974110005, 0.6403209508884159, 0.954982721963959, 0.37496935448750696, 0.013282984055520216, 0.2219809965748752, 0.005439354095318176, 0.021394403691484123, 0.27939044029955457, 0.49230149924324174, 0.8815182197399295, 0.749606752795772, 0.29577574151165764, 0.9737039540602893, 0.5059456213780477, 0.5020316774618265, 0.11448507783136082, 0.9190316384597923, 0.5166353394865859, 0.7138667614935971, 0.5261961228106725, 0.8530492764213641, 0.8714255801957643, 0.5906906358791097, 0.055642514086296516, 0.36576748948485593, 0.3946722632667114, 0.004440308022655825, 0.20025799135392058, 0.1383786768743943, 0.46604378951995257, 0.6434077808510288, 0.7853123989073935, 0.013230039968277044, 5.7327429197715246e-05, 0.21978291021155, 0.23993570043604293, 0.1887110293786002, 0.30245525035790477, 0.008234972073749437, 0.07109393701039052, 0.0022128078450387558, 0.3437765558324233, 0.3326819793136791, 0.028611872074614127, 0.22797840220172622, 0.2159831106308693, 0.021834805812910835]\n"
     ]
    },
    {
     "data": {
      "text/plain": [
       "<matplotlib.image.AxesImage at 0x7fa3c5155780>"
      ]
     },
     "execution_count": 7,
     "metadata": {},
     "output_type": "execute_result"
    },
    {
     "data": {
      "image/png": "[encoded data removed]",
      "text/plain": [
       "<Figure size 432x288 with 1 Axes>"
      ]
     },
     "metadata": {
      "needs_background": "light"
     },
     "output_type": "display_data"
    }
   ],
   "source": [
    "print(algorithm.result[0].objectives[:][0])\n",
    "print([problem.types[i].decode(var) for i, var in enumerate(algorithm.result[0].variables)])\n",
    "plt.imshow(make_image(*[problem.types[i].decode(var) for i, var in enumerate(algorithm.result[0].variables)]))"
   ]
  }
 ],
 "metadata": {
  "kernelspec": {
   "display_name": "Python 3",
   "language": "python",
   "name": "python3"
  },
  "language_info": {
   "codemirror_mode": {
    "name": "ipython",
    "version": 3
   },
   "file_extension": ".py",
   "mimetype": "text/x-python",
   "name": "python",
   "nbconvert_exporter": "python",
   "pygments_lexer": "ipython3",
   "version": "3.6.8"
  }
 },
 "nbformat": 4,
 "nbformat_minor": 2
}
